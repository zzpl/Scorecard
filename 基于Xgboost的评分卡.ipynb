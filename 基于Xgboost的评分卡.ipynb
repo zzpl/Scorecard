{
 "cells": [
  {
   "cell_type": "markdown",
   "metadata": {},
   "source": [
    "# 说明"
   ]
  },
  {
   "cell_type": "markdown",
   "metadata": {},
   "source": [
    "1.数据集来源为kaggle，因为是一个demo，且需要验证结果，所以仅取其训练集；\n",
    "2.本项目主要为了说明构建一张简单的评分卡（A卡，也就是贷前）的过程，所以省略了EDA的部分，仅仅做一个简单的流程说明。\n",
    "3.与之前的逻辑回归评分卡不同，本次主要尝试用xgboost做一张评分卡\n"
   ]
  },
  {
   "cell_type": "markdown",
   "metadata": {},
   "source": [
    "# 导入相关包"
   ]
  },
  {
   "cell_type": "code",
   "execution_count": 61,
   "metadata": {
    "collapsed": true
   },
   "outputs": [],
   "source": [
    "import numpy as np \n",
    "from sklearn.model_selection import train_test_split\n",
    "from sklearn.linear_model import LogisticRegression\n",
    "import math\n",
    "import pandas as pd \n",
    "import matplotlib.pyplot as plt\n",
    "import seaborn as sns\n",
    "%matplotlib inline\n",
    "import os\n",
    "from sklearn.model_selection import KFold\n",
    "from sklearn.model_selection import GridSearchCV,StratifiedKFold\n",
    "from sklearn.preprocessing import LabelEncoder,OneHotEncoder\n",
    "from sklearn.model_selection import train_test_split\n",
    "from matplotlib import pyplot as plt\n",
    "from sklearn.metrics import confusion_matrix,roc_auc_score,roc_curve\n",
    "import warnings\n",
    "import plotly.express as px\n",
    "import sklearn.metrics as metrics\n",
    "import xgboost as xgb\n",
    "\n",
    "warnings.filterwarnings('ignore')\n",
    "plt.rcParams['font.family']='Microsoft YaHei' #显示中文标签\n",
    "plt.style.use ('ggplot') #设定绘图风格\n",
    "import seaborn as sns\n",
    "\n",
    "pd.set_option('max_columns',1000)\n",
    "pd.set_option('max_row',300)\n",
    "pd.set_option('display.float_format', lambda x:' %.5f' % x)"
   ]
  },
  {
   "cell_type": "markdown",
   "metadata": {},
   "source": [
    "# 数据集"
   ]
  },
  {
   "cell_type": "markdown",
   "metadata": {},
   "source": [
    "## 导入数据"
   ]
  },
  {
   "cell_type": "code",
   "execution_count": 56,
   "metadata": {},
   "outputs": [
    {
     "data": {
      "text/plain": [
       "(150000, 11)"
      ]
     },
     "execution_count": 56,
     "metadata": {},
     "output_type": "execute_result"
    }
   ],
   "source": [
    "df_data = pd.read_csv(r'C:\\Users\\hp\\Desktop\\cs-training.csv',encoding='GB18030',index_col=0)\n",
    "df_data.shape"
   ]
  },
  {
   "cell_type": "markdown",
   "metadata": {},
   "source": [
    "## 查看数据集"
   ]
  },
  {
   "cell_type": "code",
   "execution_count": 57,
   "metadata": {},
   "outputs": [
    {
     "data": {
      "text/html": [
       "<div>\n",
       "<style scoped>\n",
       "    .dataframe tbody tr th:only-of-type {\n",
       "        vertical-align: middle;\n",
       "    }\n",
       "\n",
       "    .dataframe tbody tr th {\n",
       "        vertical-align: top;\n",
       "    }\n",
       "\n",
       "    .dataframe thead th {\n",
       "        text-align: right;\n",
       "    }\n",
       "</style>\n",
       "<table border=\"1\" class=\"dataframe\">\n",
       "  <thead>\n",
       "    <tr style=\"text-align: right;\">\n",
       "      <th></th>\n",
       "      <th>SeriousDlqin2yrs</th>\n",
       "      <th>RevolvingUtilizationOfUnsecuredLines</th>\n",
       "      <th>age</th>\n",
       "      <th>NumberOfTime30-59DaysPastDueNotWorse</th>\n",
       "      <th>DebtRatio</th>\n",
       "      <th>MonthlyIncome</th>\n",
       "      <th>NumberOfOpenCreditLinesAndLoans</th>\n",
       "      <th>NumberOfTimes90DaysLate</th>\n",
       "      <th>NumberRealEstateLoansOrLines</th>\n",
       "      <th>NumberOfTime60-89DaysPastDueNotWorse</th>\n",
       "      <th>NumberOfDependents</th>\n",
       "    </tr>\n",
       "  </thead>\n",
       "  <tbody>\n",
       "    <tr>\n",
       "      <th>1</th>\n",
       "      <td>1</td>\n",
       "      <td>0.76613</td>\n",
       "      <td>45</td>\n",
       "      <td>2</td>\n",
       "      <td>0.80298</td>\n",
       "      <td>9120.00000</td>\n",
       "      <td>13</td>\n",
       "      <td>0</td>\n",
       "      <td>6</td>\n",
       "      <td>0</td>\n",
       "      <td>2.00000</td>\n",
       "    </tr>\n",
       "    <tr>\n",
       "      <th>2</th>\n",
       "      <td>0</td>\n",
       "      <td>0.95715</td>\n",
       "      <td>40</td>\n",
       "      <td>0</td>\n",
       "      <td>0.12188</td>\n",
       "      <td>2600.00000</td>\n",
       "      <td>4</td>\n",
       "      <td>0</td>\n",
       "      <td>0</td>\n",
       "      <td>0</td>\n",
       "      <td>1.00000</td>\n",
       "    </tr>\n",
       "    <tr>\n",
       "      <th>3</th>\n",
       "      <td>0</td>\n",
       "      <td>0.65818</td>\n",
       "      <td>38</td>\n",
       "      <td>1</td>\n",
       "      <td>0.08511</td>\n",
       "      <td>3042.00000</td>\n",
       "      <td>2</td>\n",
       "      <td>1</td>\n",
       "      <td>0</td>\n",
       "      <td>0</td>\n",
       "      <td>0.00000</td>\n",
       "    </tr>\n",
       "    <tr>\n",
       "      <th>4</th>\n",
       "      <td>0</td>\n",
       "      <td>0.23381</td>\n",
       "      <td>30</td>\n",
       "      <td>0</td>\n",
       "      <td>0.03605</td>\n",
       "      <td>3300.00000</td>\n",
       "      <td>5</td>\n",
       "      <td>0</td>\n",
       "      <td>0</td>\n",
       "      <td>0</td>\n",
       "      <td>0.00000</td>\n",
       "    </tr>\n",
       "    <tr>\n",
       "      <th>5</th>\n",
       "      <td>0</td>\n",
       "      <td>0.90724</td>\n",
       "      <td>49</td>\n",
       "      <td>1</td>\n",
       "      <td>0.02493</td>\n",
       "      <td>63588.00000</td>\n",
       "      <td>7</td>\n",
       "      <td>0</td>\n",
       "      <td>1</td>\n",
       "      <td>0</td>\n",
       "      <td>0.00000</td>\n",
       "    </tr>\n",
       "  </tbody>\n",
       "</table>\n",
       "</div>"
      ],
      "text/plain": [
       "   SeriousDlqin2yrs  RevolvingUtilizationOfUnsecuredLines  age  \\\n",
       "1                 1                               0.76613   45   \n",
       "2                 0                               0.95715   40   \n",
       "3                 0                               0.65818   38   \n",
       "4                 0                               0.23381   30   \n",
       "5                 0                               0.90724   49   \n",
       "\n",
       "   NumberOfTime30-59DaysPastDueNotWorse  DebtRatio  MonthlyIncome  \\\n",
       "1                                     2    0.80298     9120.00000   \n",
       "2                                     0    0.12188     2600.00000   \n",
       "3                                     1    0.08511     3042.00000   \n",
       "4                                     0    0.03605     3300.00000   \n",
       "5                                     1    0.02493    63588.00000   \n",
       "\n",
       "   NumberOfOpenCreditLinesAndLoans  NumberOfTimes90DaysLate  \\\n",
       "1                               13                        0   \n",
       "2                                4                        0   \n",
       "3                                2                        1   \n",
       "4                                5                        0   \n",
       "5                                7                        0   \n",
       "\n",
       "   NumberRealEstateLoansOrLines  NumberOfTime60-89DaysPastDueNotWorse  \\\n",
       "1                             6                                     0   \n",
       "2                             0                                     0   \n",
       "3                             0                                     0   \n",
       "4                             0                                     0   \n",
       "5                             1                                     0   \n",
       "\n",
       "   NumberOfDependents  \n",
       "1             2.00000  \n",
       "2             1.00000  \n",
       "3             0.00000  \n",
       "4             0.00000  \n",
       "5             0.00000  "
      ]
     },
     "execution_count": 57,
     "metadata": {},
     "output_type": "execute_result"
    }
   ],
   "source": [
    "df_data.head()"
   ]
  },
  {
   "cell_type": "markdown",
   "metadata": {},
   "source": [
    "# 缺失值处理"
   ]
  },
  {
   "cell_type": "markdown",
   "metadata": {},
   "source": [
    "## 查看数据缺失值"
   ]
  },
  {
   "cell_type": "code",
   "execution_count": 58,
   "metadata": {},
   "outputs": [
    {
     "data": {
      "text/html": [
       "<div>\n",
       "<style scoped>\n",
       "    .dataframe tbody tr th:only-of-type {\n",
       "        vertical-align: middle;\n",
       "    }\n",
       "\n",
       "    .dataframe tbody tr th {\n",
       "        vertical-align: top;\n",
       "    }\n",
       "\n",
       "    .dataframe thead th {\n",
       "        text-align: right;\n",
       "    }\n",
       "</style>\n",
       "<table border=\"1\" class=\"dataframe\">\n",
       "  <thead>\n",
       "    <tr style=\"text-align: right;\">\n",
       "      <th></th>\n",
       "      <th>特征名称</th>\n",
       "      <th>缺失值数目</th>\n",
       "      <th>缺失值占比</th>\n",
       "    </tr>\n",
       "  </thead>\n",
       "  <tbody>\n",
       "    <tr>\n",
       "      <th>0</th>\n",
       "      <td>SeriousDlqin2yrs</td>\n",
       "      <td>0</td>\n",
       "      <td>0.00000</td>\n",
       "    </tr>\n",
       "    <tr>\n",
       "      <th>1</th>\n",
       "      <td>RevolvingUtilizationOfUnsecuredLines</td>\n",
       "      <td>0</td>\n",
       "      <td>0.00000</td>\n",
       "    </tr>\n",
       "    <tr>\n",
       "      <th>2</th>\n",
       "      <td>age</td>\n",
       "      <td>0</td>\n",
       "      <td>0.00000</td>\n",
       "    </tr>\n",
       "    <tr>\n",
       "      <th>3</th>\n",
       "      <td>NumberOfTime30-59DaysPastDueNotWorse</td>\n",
       "      <td>0</td>\n",
       "      <td>0.00000</td>\n",
       "    </tr>\n",
       "    <tr>\n",
       "      <th>4</th>\n",
       "      <td>DebtRatio</td>\n",
       "      <td>0</td>\n",
       "      <td>0.00000</td>\n",
       "    </tr>\n",
       "    <tr>\n",
       "      <th>5</th>\n",
       "      <td>MonthlyIncome</td>\n",
       "      <td>29731</td>\n",
       "      <td>0.19821</td>\n",
       "    </tr>\n",
       "    <tr>\n",
       "      <th>6</th>\n",
       "      <td>NumberOfOpenCreditLinesAndLoans</td>\n",
       "      <td>0</td>\n",
       "      <td>0.00000</td>\n",
       "    </tr>\n",
       "    <tr>\n",
       "      <th>7</th>\n",
       "      <td>NumberOfTimes90DaysLate</td>\n",
       "      <td>0</td>\n",
       "      <td>0.00000</td>\n",
       "    </tr>\n",
       "    <tr>\n",
       "      <th>8</th>\n",
       "      <td>NumberRealEstateLoansOrLines</td>\n",
       "      <td>0</td>\n",
       "      <td>0.00000</td>\n",
       "    </tr>\n",
       "    <tr>\n",
       "      <th>9</th>\n",
       "      <td>NumberOfTime60-89DaysPastDueNotWorse</td>\n",
       "      <td>0</td>\n",
       "      <td>0.00000</td>\n",
       "    </tr>\n",
       "    <tr>\n",
       "      <th>10</th>\n",
       "      <td>NumberOfDependents</td>\n",
       "      <td>3924</td>\n",
       "      <td>0.02616</td>\n",
       "    </tr>\n",
       "  </tbody>\n",
       "</table>\n",
       "</div>"
      ],
      "text/plain": [
       "                                    特征名称  缺失值数目    缺失值占比\n",
       "0                       SeriousDlqin2yrs      0  0.00000\n",
       "1   RevolvingUtilizationOfUnsecuredLines      0  0.00000\n",
       "2                                    age      0  0.00000\n",
       "3   NumberOfTime30-59DaysPastDueNotWorse      0  0.00000\n",
       "4                              DebtRatio      0  0.00000\n",
       "5                          MonthlyIncome  29731  0.19821\n",
       "6        NumberOfOpenCreditLinesAndLoans      0  0.00000\n",
       "7                NumberOfTimes90DaysLate      0  0.00000\n",
       "8           NumberRealEstateLoansOrLines      0  0.00000\n",
       "9   NumberOfTime60-89DaysPastDueNotWorse      0  0.00000\n",
       "10                    NumberOfDependents   3924  0.02616"
      ]
     },
     "execution_count": 58,
     "metadata": {},
     "output_type": "execute_result"
    }
   ],
   "source": [
    "null_val_sums = df_data.isnull().sum()\n",
    "pd.DataFrame({\"特征名称\": null_val_sums.index, \"缺失值数目\": null_val_sums.values,\n",
    "             \"缺失值占比\": null_val_sums.values / len(df_data) })"
   ]
  },
  {
   "cell_type": "markdown",
   "metadata": {},
   "source": [
    "## 缺失值填补"
   ]
  },
  {
   "cell_type": "markdown",
   "metadata": {},
   "source": [
    "填补方法很多，比如给一个极端值-9999，或者分箱单独分为一箱，平均值填充，中位数填充等等，此处我们用中位数做简单填补"
   ]
  },
  {
   "cell_type": "code",
   "execution_count": 59,
   "metadata": {
    "collapsed": true
   },
   "outputs": [],
   "source": [
    "for i in null_val_sums.index:\n",
    "    df_data[i] = df_data[i].fillna(df_data[i].median())"
   ]
  },
  {
   "cell_type": "code",
   "execution_count": 60,
   "metadata": {},
   "outputs": [
    {
     "data": {
      "text/html": [
       "<div>\n",
       "<style scoped>\n",
       "    .dataframe tbody tr th:only-of-type {\n",
       "        vertical-align: middle;\n",
       "    }\n",
       "\n",
       "    .dataframe tbody tr th {\n",
       "        vertical-align: top;\n",
       "    }\n",
       "\n",
       "    .dataframe thead th {\n",
       "        text-align: right;\n",
       "    }\n",
       "</style>\n",
       "<table border=\"1\" class=\"dataframe\">\n",
       "  <thead>\n",
       "    <tr style=\"text-align: right;\">\n",
       "      <th></th>\n",
       "      <th>特征名称</th>\n",
       "      <th>缺失值数目</th>\n",
       "      <th>缺失值占比</th>\n",
       "    </tr>\n",
       "  </thead>\n",
       "  <tbody>\n",
       "    <tr>\n",
       "      <th>0</th>\n",
       "      <td>SeriousDlqin2yrs</td>\n",
       "      <td>0</td>\n",
       "      <td>0.00000</td>\n",
       "    </tr>\n",
       "    <tr>\n",
       "      <th>1</th>\n",
       "      <td>RevolvingUtilizationOfUnsecuredLines</td>\n",
       "      <td>0</td>\n",
       "      <td>0.00000</td>\n",
       "    </tr>\n",
       "    <tr>\n",
       "      <th>2</th>\n",
       "      <td>age</td>\n",
       "      <td>0</td>\n",
       "      <td>0.00000</td>\n",
       "    </tr>\n",
       "    <tr>\n",
       "      <th>3</th>\n",
       "      <td>NumberOfTime30-59DaysPastDueNotWorse</td>\n",
       "      <td>0</td>\n",
       "      <td>0.00000</td>\n",
       "    </tr>\n",
       "    <tr>\n",
       "      <th>4</th>\n",
       "      <td>DebtRatio</td>\n",
       "      <td>0</td>\n",
       "      <td>0.00000</td>\n",
       "    </tr>\n",
       "    <tr>\n",
       "      <th>5</th>\n",
       "      <td>MonthlyIncome</td>\n",
       "      <td>0</td>\n",
       "      <td>0.00000</td>\n",
       "    </tr>\n",
       "    <tr>\n",
       "      <th>6</th>\n",
       "      <td>NumberOfOpenCreditLinesAndLoans</td>\n",
       "      <td>0</td>\n",
       "      <td>0.00000</td>\n",
       "    </tr>\n",
       "    <tr>\n",
       "      <th>7</th>\n",
       "      <td>NumberOfTimes90DaysLate</td>\n",
       "      <td>0</td>\n",
       "      <td>0.00000</td>\n",
       "    </tr>\n",
       "    <tr>\n",
       "      <th>8</th>\n",
       "      <td>NumberRealEstateLoansOrLines</td>\n",
       "      <td>0</td>\n",
       "      <td>0.00000</td>\n",
       "    </tr>\n",
       "    <tr>\n",
       "      <th>9</th>\n",
       "      <td>NumberOfTime60-89DaysPastDueNotWorse</td>\n",
       "      <td>0</td>\n",
       "      <td>0.00000</td>\n",
       "    </tr>\n",
       "    <tr>\n",
       "      <th>10</th>\n",
       "      <td>NumberOfDependents</td>\n",
       "      <td>0</td>\n",
       "      <td>0.00000</td>\n",
       "    </tr>\n",
       "  </tbody>\n",
       "</table>\n",
       "</div>"
      ],
      "text/plain": [
       "                                    特征名称  缺失值数目    缺失值占比\n",
       "0                       SeriousDlqin2yrs      0  0.00000\n",
       "1   RevolvingUtilizationOfUnsecuredLines      0  0.00000\n",
       "2                                    age      0  0.00000\n",
       "3   NumberOfTime30-59DaysPastDueNotWorse      0  0.00000\n",
       "4                              DebtRatio      0  0.00000\n",
       "5                          MonthlyIncome      0  0.00000\n",
       "6        NumberOfOpenCreditLinesAndLoans      0  0.00000\n",
       "7                NumberOfTimes90DaysLate      0  0.00000\n",
       "8           NumberRealEstateLoansOrLines      0  0.00000\n",
       "9   NumberOfTime60-89DaysPastDueNotWorse      0  0.00000\n",
       "10                    NumberOfDependents      0  0.00000"
      ]
     },
     "execution_count": 60,
     "metadata": {},
     "output_type": "execute_result"
    }
   ],
   "source": [
    "null_val_sums = df_data.isnull().sum()\n",
    "pd.DataFrame({\"特征名称\": null_val_sums.index, \"缺失值数目\": null_val_sums.values,\n",
    "             \"缺失值占比\": null_val_sums.values / len(df_data) })"
   ]
  },
  {
   "cell_type": "markdown",
   "metadata": {},
   "source": [
    "# 模型建立"
   ]
  },
  {
   "cell_type": "markdown",
   "metadata": {},
   "source": [
    "## 数据集切分"
   ]
  },
  {
   "cell_type": "code",
   "execution_count": 63,
   "metadata": {},
   "outputs": [
    {
     "data": {
      "text/plain": [
       "['RevolvingUtilizationOfUnsecuredLines',\n",
       " 'age',\n",
       " 'NumberOfTime30-59DaysPastDueNotWorse',\n",
       " 'DebtRatio',\n",
       " 'MonthlyIncome',\n",
       " 'NumberOfOpenCreditLinesAndLoans',\n",
       " 'NumberOfTimes90DaysLate',\n",
       " 'NumberRealEstateLoansOrLines',\n",
       " 'NumberOfTime60-89DaysPastDueNotWorse',\n",
       " 'NumberOfDependents']"
      ]
     },
     "execution_count": 63,
     "metadata": {},
     "output_type": "execute_result"
    }
   ],
   "source": [
    "feature_list = list(df_data)\n",
    "del feature_list[0]\n",
    "feature_list"
   ]
  },
  {
   "cell_type": "code",
   "execution_count": 96,
   "metadata": {},
   "outputs": [
    {
     "name": "stdout",
     "output_type": "stream",
     "text": [
      "坏样本占比为：  0.06684375\n"
     ]
    }
   ],
   "source": [
    "X_train_T, X_test, y_train_T, y_test = train_test_split(df_data[feature_list], df_data['SeriousDlqin2yrs'], test_size=0.2, random_state=42,stratify=df_data['SeriousDlqin2yrs'])\n",
    "X_train, X_valid, y_train, y_valid = train_test_split(X_train_T[feature_list], y_train_T, test_size=0.2, random_state=42,stratify=y_train_T)\n",
    "\n",
    "print('坏样本占比为： ',y_train.mean())"
   ]
  },
  {
   "cell_type": "markdown",
   "metadata": {},
   "source": [
    "## 建立Xgboost模型"
   ]
  },
  {
   "cell_type": "code",
   "execution_count": 71,
   "metadata": {},
   "outputs": [
    {
     "name": "stdout",
     "output_type": "stream",
     "text": [
      "[0]\tvalidation_0-auc:0.84390\n",
      "[1]\tvalidation_0-auc:0.84827\n",
      "[2]\tvalidation_0-auc:0.85160\n",
      "[3]\tvalidation_0-auc:0.85200\n",
      "[4]\tvalidation_0-auc:0.85278\n",
      "[5]\tvalidation_0-auc:0.85278\n",
      "[6]\tvalidation_0-auc:0.85396\n",
      "[7]\tvalidation_0-auc:0.85675\n",
      "[8]\tvalidation_0-auc:0.85794\n",
      "[9]\tvalidation_0-auc:0.85864\n",
      "[10]\tvalidation_0-auc:0.85888\n",
      "[11]\tvalidation_0-auc:0.85955\n",
      "[12]\tvalidation_0-auc:0.85928\n",
      "[13]\tvalidation_0-auc:0.86036\n",
      "[14]\tvalidation_0-auc:0.85988\n",
      "[15]\tvalidation_0-auc:0.86011\n",
      "[16]\tvalidation_0-auc:0.86057\n",
      "[17]\tvalidation_0-auc:0.86058\n",
      "[18]\tvalidation_0-auc:0.86068\n",
      "[19]\tvalidation_0-auc:0.86095\n",
      "[20]\tvalidation_0-auc:0.86094\n",
      "[21]\tvalidation_0-auc:0.86071\n",
      "[22]\tvalidation_0-auc:0.86071\n",
      "[23]\tvalidation_0-auc:0.86069\n",
      "[24]\tvalidation_0-auc:0.86082\n",
      "[25]\tvalidation_0-auc:0.86091\n",
      "[26]\tvalidation_0-auc:0.86098\n",
      "[27]\tvalidation_0-auc:0.86059\n",
      "[28]\tvalidation_0-auc:0.86072\n",
      "[29]\tvalidation_0-auc:0.86073\n",
      "[30]\tvalidation_0-auc:0.86081\n",
      "[31]\tvalidation_0-auc:0.86050\n",
      "[32]\tvalidation_0-auc:0.86048\n",
      "[33]\tvalidation_0-auc:0.86068\n",
      "[34]\tvalidation_0-auc:0.86037\n",
      "[35]\tvalidation_0-auc:0.86036\n",
      "[36]\tvalidation_0-auc:0.86031\n",
      "[37]\tvalidation_0-auc:0.86029\n",
      "[38]\tvalidation_0-auc:0.86011\n",
      "[39]\tvalidation_0-auc:0.86016\n",
      "[40]\tvalidation_0-auc:0.85966\n",
      "[41]\tvalidation_0-auc:0.85955\n",
      "[42]\tvalidation_0-auc:0.85945\n",
      "[43]\tvalidation_0-auc:0.85933\n",
      "[44]\tvalidation_0-auc:0.85921\n",
      "[45]\tvalidation_0-auc:0.85917\n",
      "[46]\tvalidation_0-auc:0.85922\n",
      "[47]\tvalidation_0-auc:0.85912\n",
      "[48]\tvalidation_0-auc:0.85897\n",
      "[49]\tvalidation_0-auc:0.85895\n",
      "[50]\tvalidation_0-auc:0.85878\n",
      "[51]\tvalidation_0-auc:0.85856\n",
      "[52]\tvalidation_0-auc:0.85831\n",
      "[53]\tvalidation_0-auc:0.85823\n",
      "[54]\tvalidation_0-auc:0.85821\n",
      "[55]\tvalidation_0-auc:0.85785\n",
      "[56]\tvalidation_0-auc:0.85780\n",
      "[57]\tvalidation_0-auc:0.85774\n",
      "[58]\tvalidation_0-auc:0.85784\n",
      "[59]\tvalidation_0-auc:0.85741\n",
      "[60]\tvalidation_0-auc:0.85718\n",
      "[61]\tvalidation_0-auc:0.85709\n",
      "[62]\tvalidation_0-auc:0.85684\n",
      "[63]\tvalidation_0-auc:0.85664\n",
      "[64]\tvalidation_0-auc:0.85629\n",
      "[65]\tvalidation_0-auc:0.85596\n",
      "[66]\tvalidation_0-auc:0.85590\n",
      "[67]\tvalidation_0-auc:0.85574\n",
      "[68]\tvalidation_0-auc:0.85568\n",
      "[69]\tvalidation_0-auc:0.85561\n",
      "[70]\tvalidation_0-auc:0.85564\n",
      "[71]\tvalidation_0-auc:0.85551\n",
      "[72]\tvalidation_0-auc:0.85543\n",
      "[73]\tvalidation_0-auc:0.85551\n",
      "[74]\tvalidation_0-auc:0.85529\n",
      "[75]\tvalidation_0-auc:0.85519\n",
      "[76]\tvalidation_0-auc:0.85489\n",
      "[77]\tvalidation_0-auc:0.85447\n",
      "[78]\tvalidation_0-auc:0.85436\n",
      "[79]\tvalidation_0-auc:0.85447\n",
      "[80]\tvalidation_0-auc:0.85422\n",
      "[81]\tvalidation_0-auc:0.85379\n",
      "[82]\tvalidation_0-auc:0.85377\n",
      "[83]\tvalidation_0-auc:0.85350\n",
      "[84]\tvalidation_0-auc:0.85340\n",
      "[85]\tvalidation_0-auc:0.85321\n",
      "[86]\tvalidation_0-auc:0.85324\n",
      "[87]\tvalidation_0-auc:0.85293\n",
      "[88]\tvalidation_0-auc:0.85281\n",
      "[89]\tvalidation_0-auc:0.85272\n",
      "[90]\tvalidation_0-auc:0.85273\n",
      "[91]\tvalidation_0-auc:0.85259\n",
      "[92]\tvalidation_0-auc:0.85237\n",
      "[93]\tvalidation_0-auc:0.85212\n",
      "[94]\tvalidation_0-auc:0.85198\n",
      "[95]\tvalidation_0-auc:0.85195\n",
      "[96]\tvalidation_0-auc:0.85184\n",
      "[97]\tvalidation_0-auc:0.85172\n",
      "[98]\tvalidation_0-auc:0.85171\n",
      "[99]\tvalidation_0-auc:0.85172\n",
      "[100]\tvalidation_0-auc:0.85164\n",
      "[101]\tvalidation_0-auc:0.85161\n",
      "[102]\tvalidation_0-auc:0.85151\n",
      "[103]\tvalidation_0-auc:0.85141\n",
      "[104]\tvalidation_0-auc:0.85128\n",
      "[105]\tvalidation_0-auc:0.85113\n",
      "[106]\tvalidation_0-auc:0.85109\n",
      "[107]\tvalidation_0-auc:0.85101\n",
      "[108]\tvalidation_0-auc:0.85061\n",
      "[109]\tvalidation_0-auc:0.85041\n",
      "[110]\tvalidation_0-auc:0.85018\n",
      "[111]\tvalidation_0-auc:0.84962\n",
      "[112]\tvalidation_0-auc:0.84945\n",
      "[113]\tvalidation_0-auc:0.84948\n",
      "[114]\tvalidation_0-auc:0.84915\n",
      "[115]\tvalidation_0-auc:0.84868\n",
      "[116]\tvalidation_0-auc:0.84844\n",
      "[117]\tvalidation_0-auc:0.84847\n",
      "[118]\tvalidation_0-auc:0.84843\n",
      "[119]\tvalidation_0-auc:0.84837\n",
      "[120]\tvalidation_0-auc:0.84818\n",
      "[121]\tvalidation_0-auc:0.84796\n",
      "[122]\tvalidation_0-auc:0.84811\n",
      "[123]\tvalidation_0-auc:0.84808\n",
      "[124]\tvalidation_0-auc:0.84807\n",
      "[125]\tvalidation_0-auc:0.84803\n"
     ]
    }
   ],
   "source": [
    "eval_set = [(X_valid, y_valid)]\n",
    "model_xgb = xgb.XGBClassifier(random_state=2022,n_estimators=800).fit(X_train,y_train,early_stopping_rounds=100, eval_metric=\"auc\",eval_set=eval_set)\n",
    "\n"
   ]
  },
  {
   "cell_type": "markdown",
   "metadata": {},
   "source": [
    "## 模型评价标准"
   ]
  },
  {
   "cell_type": "markdown",
   "metadata": {},
   "source": [
    "1.AUC：AUC为ROC曲线的面积，取值为[0，1]，越接近1证明模型预测效果越好。ROC曲线的纵坐标轴为TPR；横坐标轴为FPR。一般AUC>0.8证明效果还可以，可以考虑上线。\n",
    "2.KS值：衡量的是好坏样本累计分布之间的差值。好坏样本累计差异越大，KS指标越大，那么模型的风险区分能力越强，当KS值>0.4，且训练集和测试集相差不超过5%，正负样本区分度还不错。"
   ]
  },
  {
   "cell_type": "code",
   "execution_count": 76,
   "metadata": {},
   "outputs": [
    {
     "name": "stdout",
     "output_type": "stream",
     "text": [
      "train_ks: 0.6170186473625132\n",
      "evl_ks: 0.5775063145850323\n"
     ]
    },
    {
     "data": {
      "image/png": "[encoded data removed]",
      "text/plain": [
       "<Figure size 432x288 with 1 Axes>"
      ]
     },
     "metadata": {},
     "output_type": "display_data"
    }
   ],
   "source": [
    "y_pred_train = model_xgb.predict_proba(X_train)[:,1]\n",
    "fpr_xgb_train,tpr_xgb_train,_=metrics.roc_curve(y_train,y_pred_train)\n",
    "train_ks = abs(fpr_xgb_train-tpr_xgb_train).max()\n",
    "roc_auc_train = metrics.auc(fpr_xgb_train, tpr_xgb_train)\n",
    "print('train_ks:',train_ks)\n",
    "\n",
    "y_pred = model_xgb.predict_proba(X_test)[:,1]\n",
    "fpr_xgb_evl,tpr_xgb_evl,_=metrics.roc_curve(y_test,y_pred)\n",
    "evl_ks = abs(fpr_xgb_evl-tpr_xgb_evl).max()\n",
    "roc_auc_evl = metrics.auc(fpr_xgb_evl, tpr_xgb_evl)\n",
    "print('evl_ks:',evl_ks)\n",
    "\n",
    "\n",
    "plt.title('Receiver Operating Characteristic')\n",
    "plt.plot(fpr_xgb_train, tpr_xgb_train, 'b', label = 'Train_AUC = %0.2f' % roc_auc_train)\n",
    "plt.plot(fpr_xgb_evl, tpr_xgb_evl, 'y', label = 'evl_AUC = %0.2f' % roc_auc_evl)\n",
    "plt.legend(loc = 'lower right')\n",
    "plt.plot([0, 1], [0, 1],'r--')\n",
    "plt.xlim([0, 1])\n",
    "plt.ylim([0, 1])\n",
    "plt.ylabel('True Positive Rate')\n",
    "plt.xlabel('False Positive Rate')\n",
    "plt.show()"
   ]
  },
  {
   "cell_type": "markdown",
   "metadata": {},
   "source": [
    "# 基于Logistic回归的评分卡转换"
   ]
  },
  {
   "cell_type": "markdown",
   "metadata": {},
   "source": [
    "#### 评分卡转换原理\n",
    "\n",
    "​\t\t客户违约概率为p，正常概率为1-p，违约概率与正常概率的比值，称为Odds，即：\n",
    "$$\n",
    "Odds=\\frac{p}{1-p}    ----(1)\n",
    "$$\n",
    "\n",
    "逻辑回归公式为：\n",
    "$$\n",
    "p=\\frac{1}{1+e^-\\theta^Tx} ----   (2)\n",
    "$$\n",
    "同时取ln\n",
    "$$\n",
    "ln(\\frac{p}{1-p})=\\theta^Tx  ---- (3) \n",
    "$$\n",
    "将公式（1）代入（3）,即：\n",
    "$$\n",
    "ln(Odds)=\\theta^Tx   ----(4)\n",
    "$$\n",
    "评分卡的背后逻辑是Odds的变动与评分变动的映射（把Odds映射为评分），即通过下述公式进行映射：\n",
    "$$\n",
    "Score=A-B*ln（Odds）----（5）\n",
    "$$\n",
    "其中A与B是常数，B前面取负号的原因，是让违约概率越低，得分越高。因为实际业务里，分数也高风险越低，风控里默认高分高信用低风险\n",
    "计算出A、B的方法如下：\n",
    "1. 设定基准分。基准分为$A-B*\\theta_0$，也就是$p_0$，当odds无变动时，$\\theta_0$=1，A=$p_0$,此处我们设定基础分为650；\n",
    "2. PDO（point of double），比率翻番时分数的变动值。此处设置为当odds翻倍时，分值减少50。\n",
    "由上述可得：\n",
    "$$\n",
    "P_0=A-B*ln(\\theta_0)\n",
    "$$\n",
    "根据PDO的定义，有下面等式：\n",
    "$$\n",
    "P_0-PDO=A-B*ln(2\\theta_0)\n",
    "$$\n",
    "上述两个等式联立求解\n",
    "\n",
    "可得：\n",
    "$$\n",
    "B=\\frac{PDO}{ln2}\\\\\n",
    "A=P_0+B*ln(\\theta_0)\n",
    "$$\n",
    "评分卡里每一个变量x的每一个分箱有一个对应分值，即将每个特征的重要性权值与特征分箱的WOE编码进行结合计算，其计算方法如下：\n",
    "\n",
    "$$\n",
    "Score=A-B\\{\\theta_i\\omega_{ij}\\}\n",
    "$$\n",
    "其中，$\\theta_i$表示第i个特征的重要性得分,$\\omega_{ij}$表示第i个特征的第j个分箱的WOE编码的分数。"
   ]
  },
  {
   "cell_type": "markdown",
   "metadata": {},
   "source": [
    "# 基于Xgboost的评分卡转换"
   ]
  },
  {
   "cell_type": "markdown",
   "metadata": {},
   "source": [
    "上述逻辑回归评分卡还有第二种得分映射方式，这种方式不考虑评分转换的真正含义，之间使用预测的概率去进行映射，使用换底公式，\n",
    "$$\n",
    "Score=A-B*ln（Odds）=A-B*log_{2}(Odds)*ln(2)\n",
    "$$\n",
    "当PDO取50时，上述公式又可以换成：\n",
    "$$\n",
    "Score=A-50*log_{2}(Odds)\n",
    "$$\n",
    "按照同样的逻辑，只要找出给出xgboost的odds，即负样本概率与正样本概率的比率，就可以做得分映射。即有：\n",
    "$$\n",
    "Score=A-50*log_{2}(\\frac{1-p}{p})\n",
    "$$\n",
    "其中，p为xgboost预测的概率。\n",
    "当然，这样就没办法得到每个特征的具体得分"
   ]
  },
  {
   "cell_type": "code",
   "execution_count": 1,
   "metadata": {
    "collapsed": true
   },
   "outputs": [],
   "source": [
    "def score(p):\n",
    "    score = 650+50*(math.log2((1-p)/p))\n",
    "    return score"
   ]
  },
  {
   "cell_type": "markdown",
   "metadata": {},
   "source": [
    "# 给建卡数据、验证数据打分"
   ]
  },
  {
   "cell_type": "markdown",
   "metadata": {},
   "source": [
    " ## 对建卡数据进行得分映射"
   ]
  },
  {
   "cell_type": "code",
   "execution_count": 85,
   "metadata": {},
   "outputs": [],
   "source": [
    "train_score = []\n",
    "for i in range(len(y_pred_train)):\n",
    "    s = score(list(y_pred_train)[i])\n",
    "    train_score.append(s)"
   ]
  },
  {
   "cell_type": "code",
   "execution_count": 98,
   "metadata": {},
   "outputs": [
    {
     "data": {
      "text/html": [
       "<div>\n",
       "<style scoped>\n",
       "    .dataframe tbody tr th:only-of-type {\n",
       "        vertical-align: middle;\n",
       "    }\n",
       "\n",
       "    .dataframe tbody tr th {\n",
       "        vertical-align: top;\n",
       "    }\n",
       "\n",
       "    .dataframe thead th {\n",
       "        text-align: right;\n",
       "    }\n",
       "</style>\n",
       "<table border=\"1\" class=\"dataframe\">\n",
       "  <thead>\n",
       "    <tr style=\"text-align: right;\">\n",
       "      <th></th>\n",
       "      <th>标签</th>\n",
       "      <th>总分</th>\n",
       "    </tr>\n",
       "  </thead>\n",
       "  <tbody>\n",
       "    <tr>\n",
       "      <th>0</th>\n",
       "      <td>0</td>\n",
       "      <td>835.02480</td>\n",
       "    </tr>\n",
       "    <tr>\n",
       "      <th>1</th>\n",
       "      <td>0</td>\n",
       "      <td>684.41649</td>\n",
       "    </tr>\n",
       "    <tr>\n",
       "      <th>2</th>\n",
       "      <td>0</td>\n",
       "      <td>1002.79850</td>\n",
       "    </tr>\n",
       "    <tr>\n",
       "      <th>3</th>\n",
       "      <td>0</td>\n",
       "      <td>905.57798</td>\n",
       "    </tr>\n",
       "    <tr>\n",
       "      <th>4</th>\n",
       "      <td>0</td>\n",
       "      <td>934.31384</td>\n",
       "    </tr>\n",
       "    <tr>\n",
       "      <th>...</th>\n",
       "      <td>...</td>\n",
       "      <td>...</td>\n",
       "    </tr>\n",
       "    <tr>\n",
       "      <th>95995</th>\n",
       "      <td>0</td>\n",
       "      <td>878.62418</td>\n",
       "    </tr>\n",
       "    <tr>\n",
       "      <th>95996</th>\n",
       "      <td>0</td>\n",
       "      <td>875.20583</td>\n",
       "    </tr>\n",
       "    <tr>\n",
       "      <th>95997</th>\n",
       "      <td>0</td>\n",
       "      <td>927.19486</td>\n",
       "    </tr>\n",
       "    <tr>\n",
       "      <th>95998</th>\n",
       "      <td>0</td>\n",
       "      <td>922.15988</td>\n",
       "    </tr>\n",
       "    <tr>\n",
       "      <th>95999</th>\n",
       "      <td>0</td>\n",
       "      <td>995.66992</td>\n",
       "    </tr>\n",
       "  </tbody>\n",
       "</table>\n",
       "<p>96000 rows × 2 columns</p>\n",
       "</div>"
      ],
      "text/plain": [
       "       标签          总分\n",
       "0       0   835.02480\n",
       "1       0   684.41649\n",
       "2       0  1002.79850\n",
       "3       0   905.57798\n",
       "4       0   934.31384\n",
       "...    ..         ...\n",
       "95995   0   878.62418\n",
       "95996   0   875.20583\n",
       "95997   0   927.19486\n",
       "95998   0   922.15988\n",
       "95999   0   995.66992\n",
       "\n",
       "[96000 rows x 2 columns]"
      ]
     },
     "execution_count": 98,
     "metadata": {},
     "output_type": "execute_result"
    }
   ],
   "source": [
    "dfs = pd.DataFrame(columns = [\"标签\", \"总分\"])\n",
    "dfs['标签'] = list(y_train)\n",
    "dfs['总分'] = train_score\n",
    "dfs"
   ]
  },
  {
   "cell_type": "code",
   "execution_count": 101,
   "metadata": {},
   "outputs": [
    {
     "name": "stdout",
     "output_type": "stream",
     "text": [
      "好样本得分区间 总分    492.76539\n",
      "dtype: float64 总分    1090.30022\n",
      "dtype: float64\n",
      "坏样本得分区间 总分    413.03903\n",
      "dtype: float64 总分    1074.73830\n",
      "dtype: float64\n"
     ]
    }
   ],
   "source": [
    "print ('好样本得分区间',dfs[dfs['标签'] == 0][['总分']].min(),dfs[dfs['标签'] == 0][['总分']].max()) \n",
    "print ('坏样本得分区间',dfs[dfs['标签'] == 1][['总分']].min(),dfs[dfs['标签'] == 1][['总分']].max()) "
   ]
  },
  {
   "cell_type": "markdown",
   "metadata": {},
   "source": [
    "## 对验证数据进行得分映射"
   ]
  },
  {
   "cell_type": "code",
   "execution_count": 102,
   "metadata": {
    "collapsed": true
   },
   "outputs": [],
   "source": [
    "evl_score = []\n",
    "for i in range(len(y_pred)):\n",
    "    s = score(list(y_pred)[i])\n",
    "    evl_score.append(s)"
   ]
  },
  {
   "cell_type": "code",
   "execution_count": 103,
   "metadata": {},
   "outputs": [
    {
     "data": {
      "text/html": [
       "<div>\n",
       "<style scoped>\n",
       "    .dataframe tbody tr th:only-of-type {\n",
       "        vertical-align: middle;\n",
       "    }\n",
       "\n",
       "    .dataframe tbody tr th {\n",
       "        vertical-align: top;\n",
       "    }\n",
       "\n",
       "    .dataframe thead th {\n",
       "        text-align: right;\n",
       "    }\n",
       "</style>\n",
       "<table border=\"1\" class=\"dataframe\">\n",
       "  <thead>\n",
       "    <tr style=\"text-align: right;\">\n",
       "      <th></th>\n",
       "      <th>标签</th>\n",
       "      <th>总分</th>\n",
       "    </tr>\n",
       "  </thead>\n",
       "  <tbody>\n",
       "    <tr>\n",
       "      <th>0</th>\n",
       "      <td>0</td>\n",
       "      <td>1009.23529</td>\n",
       "    </tr>\n",
       "    <tr>\n",
       "      <th>1</th>\n",
       "      <td>0</td>\n",
       "      <td>896.70093</td>\n",
       "    </tr>\n",
       "    <tr>\n",
       "      <th>2</th>\n",
       "      <td>0</td>\n",
       "      <td>1014.05260</td>\n",
       "    </tr>\n",
       "    <tr>\n",
       "      <th>3</th>\n",
       "      <td>0</td>\n",
       "      <td>984.56542</td>\n",
       "    </tr>\n",
       "    <tr>\n",
       "      <th>4</th>\n",
       "      <td>0</td>\n",
       "      <td>969.93286</td>\n",
       "    </tr>\n",
       "    <tr>\n",
       "      <th>...</th>\n",
       "      <td>...</td>\n",
       "      <td>...</td>\n",
       "    </tr>\n",
       "    <tr>\n",
       "      <th>29995</th>\n",
       "      <td>0</td>\n",
       "      <td>1043.68098</td>\n",
       "    </tr>\n",
       "    <tr>\n",
       "      <th>29996</th>\n",
       "      <td>0</td>\n",
       "      <td>854.25425</td>\n",
       "    </tr>\n",
       "    <tr>\n",
       "      <th>29997</th>\n",
       "      <td>0</td>\n",
       "      <td>969.26701</td>\n",
       "    </tr>\n",
       "    <tr>\n",
       "      <th>29998</th>\n",
       "      <td>0</td>\n",
       "      <td>1044.62231</td>\n",
       "    </tr>\n",
       "    <tr>\n",
       "      <th>29999</th>\n",
       "      <td>0</td>\n",
       "      <td>801.11923</td>\n",
       "    </tr>\n",
       "  </tbody>\n",
       "</table>\n",
       "<p>30000 rows × 2 columns</p>\n",
       "</div>"
      ],
      "text/plain": [
       "       标签          总分\n",
       "0       0  1009.23529\n",
       "1       0   896.70093\n",
       "2       0  1014.05260\n",
       "3       0   984.56542\n",
       "4       0   969.93286\n",
       "...    ..         ...\n",
       "29995   0  1043.68098\n",
       "29996   0   854.25425\n",
       "29997   0   969.26701\n",
       "29998   0  1044.62231\n",
       "29999   0   801.11923\n",
       "\n",
       "[30000 rows x 2 columns]"
      ]
     },
     "execution_count": 103,
     "metadata": {},
     "output_type": "execute_result"
    }
   ],
   "source": [
    "dfs2 = pd.DataFrame(columns = [\"标签\", \"总分\"])\n",
    "dfs2['标签'] = list(y_test)\n",
    "dfs2['总分'] = evl_score\n",
    "dfs2\n"
   ]
  },
  {
   "cell_type": "code",
   "execution_count": 104,
   "metadata": {},
   "outputs": [
    {
     "name": "stdout",
     "output_type": "stream",
     "text": [
      "好样本得分区间 总分    488.54652\n",
      "dtype: float64 总分    1090.30022\n",
      "dtype: float64\n",
      "坏样本得分区间 总分    460.06514\n",
      "dtype: float64 总分    1071.96614\n",
      "dtype: float64\n"
     ]
    }
   ],
   "source": [
    "print ('好样本得分区间',dfs2[dfs2['标签'] == 0][['总分']].min(),dfs2[dfs2['标签'] == 0][['总分']].max()) \n",
    "print ('坏样本得分区间',dfs2[dfs2['标签'] == 1][['总分']].min(),dfs2[dfs2['标签'] == 1][['总分']].max()) "
   ]
  },
  {
   "cell_type": "markdown",
   "metadata": {},
   "source": [
    "# 评估"
   ]
  },
  {
   "cell_type": "markdown",
   "metadata": {},
   "source": [
    "## 首先查看建卡数据的得分分布"
   ]
  },
  {
   "cell_type": "markdown",
   "metadata": {},
   "source": [
    "比较好的分布图肯定是两个单峰，且好用户和坏用户交叉不多，目前这个由于上述各种偷懒操作且特征本身也不多，效果并不理想，但是可以继续向下走流程。"
   ]
  },
  {
   "cell_type": "code",
   "execution_count": 106,
   "metadata": {},
   "outputs": [
    {
     "data": {
      "image/png": "[encoded data removed]",
      "text/plain": [
       "<Figure size 648x648 with 1 Axes>"
      ]
     },
     "metadata": {},
     "output_type": "display_data"
    }
   ],
   "source": [
    "# 得分分布图\n",
    "def plot_score_hist(df,target,score_col,plt_size=None,cutoff=None):\n",
    "    \"\"\"\n",
    "    df:数据集\n",
    "    target:目标变量的字段名\n",
    "    score_col:最终得分的字段名\n",
    "    plt_size:图纸尺寸\n",
    "    cutoff :划分拒绝/通过的点\n",
    "    \n",
    "    return :好坏用户的得分分布图\n",
    "    \"\"\"    \n",
    "    plt.figure(figsize=plt_size)\n",
    "    x1 = df[df[target]==1][score_col]\n",
    "    x2 = df[df[target]==0][score_col]\n",
    "    sns.kdeplot(x1,shade=True,label='坏用户',color='hotpink')\n",
    "    sns.kdeplot(x2,shade=True,label='好用户',color ='seagreen')\n",
    "    plt.axvline(x=cutoff)\n",
    "    plt.legend()\n",
    "    return plt.show()\n",
    "plot_score_hist(dfs,'标签','总分',plt_size=(9,9),cutoff=650)"
   ]
  },
  {
   "cell_type": "markdown",
   "metadata": {},
   "source": [
    "## 搜索CUTOFF"
   ]
  },
  {
   "cell_type": "markdown",
   "metadata": {},
   "source": [
    "对于评分卡来说，需要有一条线或者说是一个得分点来对数据进行切分此出先将其称为Cutoff，高于这条线，接受，低于则拒绝\n",
    "下面通过寻找KS值最大的点进行一个粗筛，实际业务还会根据通过率、坏样本累计占比等因素进行调整。"
   ]
  },
  {
   "cell_type": "code",
   "execution_count": 108,
   "metadata": {},
   "outputs": [
    {
     "name": "stdout",
     "output_type": "stream",
     "text": [
      "最大KS值:0.6160000000000001\n",
      "KS最大的分数:830\n"
     ]
    }
   ],
   "source": [
    "def search_cutoff(df,col_score,target):\n",
    "    \n",
    "    cutoff = list(range(600, 1000))\n",
    "    refuse_acc=[]\n",
    "    tpr_ls=[]\n",
    "    fpr_ls=[]\n",
    "    KS_ls=[]\n",
    "    for i in cutoff:\n",
    "        df['result'] = df.apply(lambda x:'拒绝' if x[col_score]<=i else '接受',axis=1)\n",
    "        TP = df[(df['result']=='拒绝')&(df[target]==1)].shape[0] \n",
    "        FN = df[(df['result']=='拒绝')&(df[target]==0)].shape[0] \n",
    "        bad = df[df[target]==1].shape[0] \n",
    "        good = df[df[target]==0].shape[0] \n",
    "        refuse = df[df['result']=='拒绝'].shape[0] \n",
    "        passed = df[df['result']==10].shape[0] \n",
    "        tpr = round(TP/bad,3) \n",
    "        fpr = round(FN/good,3) \n",
    "        KS = abs(tpr-fpr)\n",
    "        KS_ls.append(KS)\n",
    "        \n",
    "    maxid_KS = KS_ls.index(max(KS_ls))\n",
    "    co4 = cutoff[maxid_KS]\n",
    "    print('最大KS值:{}'.format(max(KS_ls)))\n",
    "    print('KS最大的分数:{}'.format(co4))                     \n",
    "\n",
    "    return \n",
    "\n",
    "search_cutoff(dfs,'总分','标签')"
   ]
  },
  {
   "cell_type": "code",
   "execution_count": 110,
   "metadata": {},
   "outputs": [
    {
     "name": "stdout",
     "output_type": "stream",
     "text": [
      "拒绝准确率:0.245\n",
      "查全率:0.79\n",
      "误伤率:0.174\n",
      "规则拒绝率:0.215\n"
     ]
    },
    {
     "data": {
      "text/html": [
       "<div>\n",
       "<style scoped>\n",
       "    .dataframe tbody tr th:only-of-type {\n",
       "        vertical-align: middle;\n",
       "    }\n",
       "\n",
       "    .dataframe tbody tr th {\n",
       "        vertical-align: top;\n",
       "    }\n",
       "\n",
       "    .dataframe thead th {\n",
       "        text-align: right;\n",
       "    }\n",
       "</style>\n",
       "<table border=\"1\" class=\"dataframe\">\n",
       "  <thead>\n",
       "    <tr style=\"text-align: right;\">\n",
       "      <th>标签</th>\n",
       "      <th>0</th>\n",
       "      <th>1</th>\n",
       "    </tr>\n",
       "    <tr>\n",
       "      <th>result</th>\n",
       "      <th></th>\n",
       "      <th></th>\n",
       "    </tr>\n",
       "  </thead>\n",
       "  <tbody>\n",
       "    <tr>\n",
       "      <th>拒绝</th>\n",
       "      <td>15611.00000</td>\n",
       "      <td>5071.00000</td>\n",
       "    </tr>\n",
       "    <tr>\n",
       "      <th>接受</th>\n",
       "      <td>73972.00000</td>\n",
       "      <td>1346.00000</td>\n",
       "    </tr>\n",
       "  </tbody>\n",
       "</table>\n",
       "</div>"
      ],
      "text/plain": [
       "标签                0           1\n",
       "result                         \n",
       "拒绝      15611.00000  5071.00000\n",
       "接受      73972.00000  1346.00000"
      ]
     },
     "execution_count": 110,
     "metadata": {},
     "output_type": "execute_result"
    }
   ],
   "source": [
    "# 设定cutoff点，衡量有效性\n",
    "def rule_verify(df,col_score,target,cutoff):\n",
    "    \"\"\"\n",
    "    df:数据集\n",
    "    target:目标变量的字段名\n",
    "    col_score:最终得分的字段名    \n",
    "    cutoff :划分拒绝/通过的点\n",
    "    \n",
    "    return :混淆矩阵\n",
    "    \"\"\"\n",
    "    df['result'] = df.apply(lambda x:'拒绝' if x[col_score]<=cutoff else '接受',axis=1)\n",
    "    TP = df[(df['result']=='拒绝')&(df[target]==1)].shape[0] \n",
    "    FN = df[(df['result']=='拒绝')&(df[target]==0)].shape[0] \n",
    "    bad = df[df[target]==1].shape[0] \n",
    "    good = df[df[target]==0].shape[0] \n",
    "    refuse = df[df['result']=='拒绝'].shape[0] \n",
    "    passed = df[df['result']==10].shape[0] \n",
    "     \n",
    "    acc = round(TP/refuse,3) \n",
    "    tpr = round(TP/bad,3) \n",
    "    fpr = round(FN/good,3) \n",
    "    pass_rate = round(refuse/df.shape[0],3) \n",
    "    matrix_df = pd.pivot_table(df,index='result',columns=target,aggfunc={col_score:pd.Series.count},values=col_score) \n",
    "    \n",
    "    print('拒绝准确率:{}'.format(acc))\n",
    "    print('查全率:{}'.format(tpr))\n",
    "    print('误伤率:{}'.format(fpr))\n",
    "    print('规则拒绝率:{}'.format(pass_rate))\n",
    "    return matrix_df\n",
    "\n",
    "rule_verify(dfs,'总分','标签',830)"
   ]
  },
  {
   "cell_type": "markdown",
   "metadata": {},
   "source": [
    "可以看出，这张卡要比之前的逻辑回归评分卡效果好不少，查全率提升的同事，误伤率也低了许多"
   ]
  },
  {
   "cell_type": "markdown",
   "metadata": {},
   "source": [
    "## 再看下在验证数据上的结果"
   ]
  },
  {
   "cell_type": "code",
   "execution_count": 111,
   "metadata": {},
   "outputs": [
    {
     "data": {
      "image/png": "[encoded data removed]",
      "text/plain": [
       "<Figure size 648x648 with 1 Axes>"
      ]
     },
     "metadata": {},
     "output_type": "display_data"
    }
   ],
   "source": [
    "plot_score_hist(dfs2,'标签','总分',plt_size=(9,9),cutoff=830)"
   ]
  },
  {
   "cell_type": "markdown",
   "metadata": {},
   "source": [
    "可以看出，cutoff能够区分大部分样本"
   ]
  },
  {
   "cell_type": "code",
   "execution_count": 112,
   "metadata": {},
   "outputs": [
    {
     "name": "stdout",
     "output_type": "stream",
     "text": [
      "拒绝准确率:0.232\n",
      "查全率:0.752\n",
      "误伤率:0.178\n",
      "规则拒绝率:0.216\n"
     ]
    },
    {
     "data": {
      "text/html": [
       "<div>\n",
       "<style scoped>\n",
       "    .dataframe tbody tr th:only-of-type {\n",
       "        vertical-align: middle;\n",
       "    }\n",
       "\n",
       "    .dataframe tbody tr th {\n",
       "        vertical-align: top;\n",
       "    }\n",
       "\n",
       "    .dataframe thead th {\n",
       "        text-align: right;\n",
       "    }\n",
       "</style>\n",
       "<table border=\"1\" class=\"dataframe\">\n",
       "  <thead>\n",
       "    <tr style=\"text-align: right;\">\n",
       "      <th>标签</th>\n",
       "      <th>0</th>\n",
       "      <th>1</th>\n",
       "    </tr>\n",
       "    <tr>\n",
       "      <th>result</th>\n",
       "      <th></th>\n",
       "      <th></th>\n",
       "    </tr>\n",
       "  </thead>\n",
       "  <tbody>\n",
       "    <tr>\n",
       "      <th>拒绝</th>\n",
       "      <td>4983.00000</td>\n",
       "      <td>1507.00000</td>\n",
       "    </tr>\n",
       "    <tr>\n",
       "      <th>接受</th>\n",
       "      <td>23012.00000</td>\n",
       "      <td>498.00000</td>\n",
       "    </tr>\n",
       "  </tbody>\n",
       "</table>\n",
       "</div>"
      ],
      "text/plain": [
       "标签                0           1\n",
       "result                         \n",
       "拒绝       4983.00000  1507.00000\n",
       "接受      23012.00000   498.00000"
      ]
     },
     "execution_count": 112,
     "metadata": {},
     "output_type": "execute_result"
    }
   ],
   "source": [
    "rule_verify(dfs2,'总分','标签',830)"
   ]
  },
  {
   "cell_type": "markdown",
   "metadata": {},
   "source": [
    "可以看出，这张评分卡有78.4%的通过率，误伤率也相对之前的卡更低，查全率更高，总体要优于于之前的逻辑回归评分卡，当然逻辑回归评分卡并非最优结果，还有提升和改进的空间，而且逻辑回归评分卡解释性也相对更强一些，更便于理解。\n",
    "这张卡做到这里就结束了，个人也属于相关初学者，如有错误疏漏，欢迎指出，一起学习探讨"
   ]
  },
  {
   "cell_type": "code",
   "execution_count": null,
   "metadata": {
    "collapsed": true
   },
   "outputs": [],
   "source": []
  }
 ],
 "metadata": {
  "kernelspec": {
   "display_name": "Python 3",
   "language": "python",
   "name": "python3"
  },
  "language_info": {
   "codemirror_mode": {
    "name": "ipython",
    "version": 3
   },
   "file_extension": ".py",
   "mimetype": "text/x-python",
   "name": "python",
   "nbconvert_exporter": "python",
   "pygments_lexer": "ipython3",
   "version": "3.6.13"
  }
 },
 "nbformat": 4,
 "nbformat_minor": 2
}
